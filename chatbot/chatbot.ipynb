{
 "cells": [
  {
   "cell_type": "code",
   "execution_count": 1,
   "id": "62657a2c",
   "metadata": {},
   "outputs": [
    {
     "name": "stdout",
     "output_type": "stream",
     "text": [
      "\r",
      "List Trainer: [#                   ] 4%"
     ]
    },
    {
     "name": "stderr",
     "output_type": "stream",
     "text": [
      "[nltk_data] Downloading package averaged_perceptron_tagger to\n",
      "[nltk_data]     C:\\Users\\HARPREET\\AppData\\Roaming\\nltk_data...\n",
      "[nltk_data]   Package averaged_perceptron_tagger is already up-to-\n",
      "[nltk_data]       date!\n",
      "[nltk_data] Downloading package punkt to\n",
      "[nltk_data]     C:\\Users\\HARPREET\\AppData\\Roaming\\nltk_data...\n",
      "[nltk_data]   Package punkt is already up-to-date!\n",
      "[nltk_data] Downloading package stopwords to\n",
      "[nltk_data]     C:\\Users\\HARPREET\\AppData\\Roaming\\nltk_data...\n",
      "[nltk_data]   Package stopwords is already up-to-date!\n"
     ]
    },
    {
     "name": "stdout",
     "output_type": "stream",
     "text": [
      "List Trainer: [####################] 100%\n",
      "Training ai.yml: [#                   ] 5%"
     ]
    },
    {
     "name": "stderr",
     "output_type": "stream",
     "text": [
      "C:\\Users\\HARPREET\\anaconda3\\lib\\site-packages\\chatterbot\\corpus.py:38: YAMLLoadWarning: calling yaml.load() without Loader=... is deprecated, as the default Loader is unsafe. Please read https://msg.pyyaml.org/load for full details.\n",
      "  return yaml.load(data_file)\n"
     ]
    },
    {
     "name": "stdout",
     "output_type": "stream",
     "text": [
      "Training ai.yml: [####################] 100%\n",
      "Training botprofile.yml: [####################] 100%\n",
      "Training computers.yml: [####################] 100%\n",
      "Training conversations.yml: [####################] 100%\n",
      "Training emotion.yml: [####################] 100%\n",
      "Training food.yml: [####################] 100%\n",
      "Training gossip.yml: [####################] 100%\n",
      "Training greetings.yml: [####################] 100%\n",
      "Training health.yml: [####################] 100%\n",
      "Training history.yml: [####################] 100%\n",
      "Training humor.yml: [####################] 100%\n",
      "Training literature.yml: [####################] 100%\n",
      "Training money.yml: [####################] 100%\n",
      "Training movies.yml: [####################] 100%\n",
      "Training politics.yml: [####################] 100%\n",
      "Training psychology.yml: [####################] 100%\n",
      "Training science.yml: [####################] 100%\n",
      "Training sports.yml: [####################] 100%\n",
      "Training trivia.yml: [####################] 100%\n",
      " * Serving Flask app \"__main__\" (lazy loading)\n",
      " * Environment: production\n",
      "   WARNING: This is a development server. Do not use it in a production deployment.\n",
      "   Use a production WSGI server instead.\n",
      " * Debug mode: off\n"
     ]
    },
    {
     "name": "stderr",
     "output_type": "stream",
     "text": [
      " * Running on http://127.0.0.1:5000/ (Press CTRL+C to quit)\n",
      "127.0.0.1 - - [08/Apr/2022 13:36:54] \"\u001b[37mGET / HTTP/1.1\u001b[0m\" 200 -\n",
      "127.0.0.1 - - [08/Apr/2022 13:36:54] \"\u001b[37mGET /static/styles/style.css HTTP/1.1\u001b[0m\" 200 -\n",
      "127.0.0.1 - - [08/Apr/2022 13:36:54] \"\u001b[33mGET /favicon.ico HTTP/1.1\u001b[0m\" 404 -\n",
      "127.0.0.1 - - [08/Apr/2022 13:40:24] \"\u001b[37mGET / HTTP/1.1\u001b[0m\" 200 -\n",
      "127.0.0.1 - - [08/Apr/2022 13:40:33] \"\u001b[33mGET /chaticon.png HTTP/1.1\u001b[0m\" 404 -\n",
      "127.0.0.1 - - [08/Apr/2022 13:40:34] \"\u001b[37mGET /get?msg=Hello HTTP/1.1\u001b[0m\" 200 -\n",
      "127.0.0.1 - - [08/Apr/2022 13:40:43] \"\u001b[33mGET /chaticon.png HTTP/1.1\u001b[0m\" 404 -\n",
      "127.0.0.1 - - [08/Apr/2022 13:40:43] \"\u001b[37mGET /get?msg=who%20are%20you%3F HTTP/1.1\u001b[0m\" 200 -\n",
      "127.0.0.1 - - [08/Apr/2022 13:40:43] \"\u001b[33mGET /chaticon.png HTTP/1.1\u001b[0m\" 404 -\n",
      "127.0.0.1 - - [08/Apr/2022 13:40:50] \"\u001b[33mGET /chaticon.png HTTP/1.1\u001b[0m\" 404 -\n",
      "127.0.0.1 - - [08/Apr/2022 13:40:50] \"\u001b[37mGET /get?msg=who%20are%20you%3F HTTP/1.1\u001b[0m\" 200 -\n",
      "127.0.0.1 - - [08/Apr/2022 13:40:50] \"\u001b[33mGET /chaticon.png HTTP/1.1\u001b[0m\" 404 -\n",
      "127.0.0.1 - - [08/Apr/2022 13:40:55] \"\u001b[33mGET /chaticon.png HTTP/1.1\u001b[0m\" 404 -\n",
      "Exception during reset or similar\n",
      "Traceback (most recent call last):\n",
      "  File \"C:\\Users\\HARPREET\\anaconda3\\lib\\site-packages\\sqlalchemy\\pool.py\", line 751, in _finalize_fairy\n",
      "    fairy._reset(pool)\n",
      "  File \"C:\\Users\\HARPREET\\anaconda3\\lib\\site-packages\\sqlalchemy\\pool.py\", line 938, in _reset\n",
      "    pool._dialect.do_rollback(self)\n",
      "  File \"C:\\Users\\HARPREET\\anaconda3\\lib\\site-packages\\sqlalchemy\\engine\\default.py\", line 486, in do_rollback\n",
      "    dbapi_connection.rollback()\n",
      "sqlite3.ProgrammingError: SQLite objects created in a thread can only be used in that same thread. The object was created in thread id 13688 and this is thread id 1680.\n",
      "Exception closing connection <sqlite3.Connection object at 0x0000012CFC035210>\n",
      "Traceback (most recent call last):\n",
      "  File \"C:\\Users\\HARPREET\\anaconda3\\lib\\site-packages\\sqlalchemy\\pool.py\", line 751, in _finalize_fairy\n",
      "    fairy._reset(pool)\n",
      "  File \"C:\\Users\\HARPREET\\anaconda3\\lib\\site-packages\\sqlalchemy\\pool.py\", line 938, in _reset\n",
      "    pool._dialect.do_rollback(self)\n",
      "  File \"C:\\Users\\HARPREET\\anaconda3\\lib\\site-packages\\sqlalchemy\\engine\\default.py\", line 486, in do_rollback\n",
      "    dbapi_connection.rollback()\n",
      "sqlite3.ProgrammingError: SQLite objects created in a thread can only be used in that same thread. The object was created in thread id 13688 and this is thread id 1680.\n",
      "\n",
      "During handling of the above exception, another exception occurred:\n",
      "\n",
      "Traceback (most recent call last):\n",
      "  File \"C:\\Users\\HARPREET\\anaconda3\\lib\\site-packages\\sqlalchemy\\pool.py\", line 342, in _close_connection\n",
      "    self._dialect.do_close(connection)\n",
      "  File \"C:\\Users\\HARPREET\\anaconda3\\lib\\site-packages\\sqlalchemy\\engine\\default.py\", line 492, in do_close\n",
      "    dbapi_connection.close()\n",
      "sqlite3.ProgrammingError: SQLite objects created in a thread can only be used in that same thread. The object was created in thread id 13688 and this is thread id 1680.\n",
      "Exception during reset or similar\n",
      "Traceback (most recent call last):\n",
      "  File \"C:\\Users\\HARPREET\\anaconda3\\lib\\site-packages\\sqlalchemy\\pool.py\", line 751, in _finalize_fairy\n",
      "    fairy._reset(pool)\n",
      "  File \"C:\\Users\\HARPREET\\anaconda3\\lib\\site-packages\\sqlalchemy\\pool.py\", line 938, in _reset\n",
      "    pool._dialect.do_rollback(self)\n",
      "  File \"C:\\Users\\HARPREET\\anaconda3\\lib\\site-packages\\sqlalchemy\\engine\\default.py\", line 486, in do_rollback\n",
      "    dbapi_connection.rollback()\n",
      "sqlite3.ProgrammingError: SQLite objects created in a thread can only be used in that same thread. The object was created in thread id 18044 and this is thread id 1680.\n",
      "Exception closing connection <sqlite3.Connection object at 0x0000012CFC0354E0>\n",
      "Traceback (most recent call last):\n",
      "  File \"C:\\Users\\HARPREET\\anaconda3\\lib\\site-packages\\sqlalchemy\\pool.py\", line 751, in _finalize_fairy\n",
      "    fairy._reset(pool)\n",
      "  File \"C:\\Users\\HARPREET\\anaconda3\\lib\\site-packages\\sqlalchemy\\pool.py\", line 938, in _reset\n",
      "    pool._dialect.do_rollback(self)\n",
      "  File \"C:\\Users\\HARPREET\\anaconda3\\lib\\site-packages\\sqlalchemy\\engine\\default.py\", line 486, in do_rollback\n",
      "    dbapi_connection.rollback()\n",
      "sqlite3.ProgrammingError: SQLite objects created in a thread can only be used in that same thread. The object was created in thread id 18044 and this is thread id 1680.\n",
      "\n",
      "During handling of the above exception, another exception occurred:\n",
      "\n",
      "Traceback (most recent call last):\n",
      "  File \"C:\\Users\\HARPREET\\anaconda3\\lib\\site-packages\\sqlalchemy\\pool.py\", line 342, in _close_connection\n",
      "    self._dialect.do_close(connection)\n",
      "  File \"C:\\Users\\HARPREET\\anaconda3\\lib\\site-packages\\sqlalchemy\\engine\\default.py\", line 492, in do_close\n",
      "    dbapi_connection.close()\n",
      "sqlite3.ProgrammingError: SQLite objects created in a thread can only be used in that same thread. The object was created in thread id 18044 and this is thread id 1680.\n",
      "Exception during reset or similar\n",
      "Traceback (most recent call last):\n",
      "  File \"C:\\Users\\HARPREET\\anaconda3\\lib\\site-packages\\sqlalchemy\\pool.py\", line 751, in _finalize_fairy\n",
      "    fairy._reset(pool)\n",
      "  File \"C:\\Users\\HARPREET\\anaconda3\\lib\\site-packages\\sqlalchemy\\pool.py\", line 938, in _reset\n",
      "    pool._dialect.do_rollback(self)\n",
      "  File \"C:\\Users\\HARPREET\\anaconda3\\lib\\site-packages\\sqlalchemy\\engine\\default.py\", line 486, in do_rollback\n",
      "    dbapi_connection.rollback()\n",
      "sqlite3.ProgrammingError: SQLite objects created in a thread can only be used in that same thread. The object was created in thread id 18044 and this is thread id 1680.\n",
      "Exception closing connection <sqlite3.Connection object at 0x0000012CFC0353F0>\n",
      "Traceback (most recent call last):\n",
      "  File \"C:\\Users\\HARPREET\\anaconda3\\lib\\site-packages\\sqlalchemy\\pool.py\", line 751, in _finalize_fairy\n",
      "    fairy._reset(pool)\n",
      "  File \"C:\\Users\\HARPREET\\anaconda3\\lib\\site-packages\\sqlalchemy\\pool.py\", line 938, in _reset\n",
      "    pool._dialect.do_rollback(self)\n",
      "  File \"C:\\Users\\HARPREET\\anaconda3\\lib\\site-packages\\sqlalchemy\\engine\\default.py\", line 486, in do_rollback\n",
      "    dbapi_connection.rollback()\n",
      "sqlite3.ProgrammingError: SQLite objects created in a thread can only be used in that same thread. The object was created in thread id 18044 and this is thread id 1680.\n",
      "\n",
      "During handling of the above exception, another exception occurred:\n",
      "\n",
      "Traceback (most recent call last):\n",
      "  File \"C:\\Users\\HARPREET\\anaconda3\\lib\\site-packages\\sqlalchemy\\pool.py\", line 342, in _close_connection\n",
      "    self._dialect.do_close(connection)\n",
      "  File \"C:\\Users\\HARPREET\\anaconda3\\lib\\site-packages\\sqlalchemy\\engine\\default.py\", line 492, in do_close\n",
      "    dbapi_connection.close()\n",
      "sqlite3.ProgrammingError: SQLite objects created in a thread can only be used in that same thread. The object was created in thread id 18044 and this is thread id 1680.\n",
      "127.0.0.1 - - [08/Apr/2022 13:40:55] \"\u001b[37mGET /get?msg=who%20made%20you%3F HTTP/1.1\u001b[0m\" 200 -\n",
      "127.0.0.1 - - [08/Apr/2022 13:40:55] \"\u001b[33mGET /chaticon.png HTTP/1.1\u001b[0m\" 404 -\n",
      "127.0.0.1 - - [08/Apr/2022 13:41:01] \"\u001b[33mGET /chaticon.png HTTP/1.1\u001b[0m\" 404 -\n",
      "127.0.0.1 - - [08/Apr/2022 13:41:01] \"\u001b[37mGET /get?msg=2%20%2B%2010%20 HTTP/1.1\u001b[0m\" 200 -\n",
      "127.0.0.1 - - [08/Apr/2022 13:41:01] \"\u001b[33mGET /chaticon.png HTTP/1.1\u001b[0m\" 404 -\n",
      "127.0.0.1 - - [08/Apr/2022 13:41:29] \"\u001b[33mGET /chaticon.png HTTP/1.1\u001b[0m\" 404 -\n",
      "127.0.0.1 - - [08/Apr/2022 13:41:29] \"\u001b[37mGET /get?msg=hhhh HTTP/1.1\u001b[0m\" 200 -\n",
      "127.0.0.1 - - [08/Apr/2022 13:41:29] \"\u001b[33mGET /chaticon.png HTTP/1.1\u001b[0m\" 404 -\n",
      "127.0.0.1 - - [08/Apr/2022 13:41:57] \"\u001b[33mGET /chaticon.png HTTP/1.1\u001b[0m\" 404 -\n",
      "127.0.0.1 - - [08/Apr/2022 13:41:57] \"\u001b[37mGET /get?msg=I%20want%20to%20order%3F HTTP/1.1\u001b[0m\" 200 -\n",
      "127.0.0.1 - - [08/Apr/2022 13:41:57] \"\u001b[33mGET /chaticon.png HTTP/1.1\u001b[0m\" 404 -\n",
      "127.0.0.1 - - [08/Apr/2022 13:43:07] \"\u001b[33mGET /chaticon.png HTTP/1.1\u001b[0m\" 404 -\n",
      "Exception during reset or similar\n",
      "Traceback (most recent call last):\n",
      "  File \"C:\\Users\\HARPREET\\anaconda3\\lib\\site-packages\\sqlalchemy\\pool.py\", line 751, in _finalize_fairy\n",
      "    fairy._reset(pool)\n",
      "  File \"C:\\Users\\HARPREET\\anaconda3\\lib\\site-packages\\sqlalchemy\\pool.py\", line 938, in _reset\n",
      "    pool._dialect.do_rollback(self)\n",
      "  File \"C:\\Users\\HARPREET\\anaconda3\\lib\\site-packages\\sqlalchemy\\engine\\default.py\", line 486, in do_rollback\n",
      "    dbapi_connection.rollback()\n",
      "sqlite3.ProgrammingError: SQLite objects created in a thread can only be used in that same thread. The object was created in thread id 13688 and this is thread id 3716.\n"
     ]
    },
    {
     "name": "stderr",
     "output_type": "stream",
     "text": [
      "Exception closing connection <sqlite3.Connection object at 0x0000012CFA7C6990>\n",
      "Traceback (most recent call last):\n",
      "  File \"C:\\Users\\HARPREET\\anaconda3\\lib\\site-packages\\sqlalchemy\\pool.py\", line 751, in _finalize_fairy\n",
      "    fairy._reset(pool)\n",
      "  File \"C:\\Users\\HARPREET\\anaconda3\\lib\\site-packages\\sqlalchemy\\pool.py\", line 938, in _reset\n",
      "    pool._dialect.do_rollback(self)\n",
      "  File \"C:\\Users\\HARPREET\\anaconda3\\lib\\site-packages\\sqlalchemy\\engine\\default.py\", line 486, in do_rollback\n",
      "    dbapi_connection.rollback()\n",
      "sqlite3.ProgrammingError: SQLite objects created in a thread can only be used in that same thread. The object was created in thread id 13688 and this is thread id 3716.\n",
      "\n",
      "During handling of the above exception, another exception occurred:\n",
      "\n",
      "Traceback (most recent call last):\n",
      "  File \"C:\\Users\\HARPREET\\anaconda3\\lib\\site-packages\\sqlalchemy\\pool.py\", line 342, in _close_connection\n",
      "    self._dialect.do_close(connection)\n",
      "  File \"C:\\Users\\HARPREET\\anaconda3\\lib\\site-packages\\sqlalchemy\\engine\\default.py\", line 492, in do_close\n",
      "    dbapi_connection.close()\n",
      "sqlite3.ProgrammingError: SQLite objects created in a thread can only be used in that same thread. The object was created in thread id 13688 and this is thread id 3716.\n",
      "127.0.0.1 - - [08/Apr/2022 13:43:08] \"\u001b[37mGET /get?msg=add%20beef%20rive%20to%20basket HTTP/1.1\u001b[0m\" 200 -\n",
      "127.0.0.1 - - [08/Apr/2022 13:43:08] \"\u001b[33mGET /chaticon.png HTTP/1.1\u001b[0m\" 404 -\n",
      "127.0.0.1 - - [08/Apr/2022 13:43:26] \"\u001b[33mGET /chaticon.png HTTP/1.1\u001b[0m\" 404 -\n",
      "127.0.0.1 - - [08/Apr/2022 13:43:27] \"\u001b[37mGET /get?msg=i%20wamt%20to%20place%20the%20order HTTP/1.1\u001b[0m\" 200 -\n",
      "127.0.0.1 - - [08/Apr/2022 13:43:27] \"\u001b[33mGET /chaticon.png HTTP/1.1\u001b[0m\" 404 -\n"
     ]
    }
   ],
   "source": [
    "from chatterbot import ChatBot\n",
    "from chatterbot.trainers import ListTrainer\n",
    "from chatterbot.trainers import ChatterBotCorpusTrainer\n",
    "from flask import Flask, render_template, request\n",
    "\n",
    "# Creating ChatBot Instance\n",
    "chatbot2 = ChatBot(\n",
    "    'ChattyBot',\n",
    "    storage_adapter='chatterbot.storage.SQLStorageAdapter',\n",
    "    logic_adapters=[\n",
    "        'chatterbot.logic.MathematicalEvaluation',\n",
    "        'chatterbot.logic.TimeLogicAdapter',\n",
    "        'chatterbot.logic.BestMatch',\n",
    "        {\n",
    "            'import_path': 'chatterbot.logic.BestMatch',\n",
    "            'default_response': 'I am sorry, but I do not understand. I am still learning.',\n",
    "            'maximum_similarity_threshold': 0.90\n",
    "        }\n",
    "    ],\n",
    "    database_uri='sqlite:///database.sqlite3'\n",
    ")\n",
    "\n",
    " # Training with Personal Ques & Ans \n",
    "\n",
    "training_data_quesans = open('training_data/ques_ans.txt').read().splitlines()\n",
    "training_data_personal = open('training_data/personal_ques.txt').read().splitlines()\n",
    "\n",
    "training_data = training_data_quesans + training_data_personal\n",
    "\n",
    "trainer = ListTrainer(chatbot2)\n",
    "trainer.train(training_data) \n",
    "\n",
    "# Training with English Corpus Data \n",
    "trainer_corpus = ChatterBotCorpusTrainer(chatbot2)\n",
    "trainer_corpus.train(\n",
    "    \"chatterbot.corpus.english\"\n",
    ") \n",
    "\n",
    "\n",
    "\n",
    "\n",
    "app = Flask(__name__)\n",
    "app.static_folder = 'static'\n",
    "\n",
    "@app.route(\"/\")\n",
    "def home():\n",
    "    return render_template(\"index.html\")\n",
    "\n",
    "@app.route(\"/get\")\n",
    "def get_bot_response():\n",
    "   userText = request.args.get('msg')\n",
    "   return str(chatbot2.get_response(userText))\n",
    "\n",
    "if __name__ == '__main__':\n",
    "    app.run()\n"
   ]
  },
  {
   "cell_type": "code",
   "execution_count": null,
   "id": "f1895194",
   "metadata": {},
   "outputs": [],
   "source": []
  },
  {
   "cell_type": "code",
   "execution_count": null,
   "id": "cbf842dc",
   "metadata": {},
   "outputs": [],
   "source": []
  },
  {
   "cell_type": "code",
   "execution_count": null,
   "id": "925e8198",
   "metadata": {},
   "outputs": [],
   "source": []
  },
  {
   "cell_type": "code",
   "execution_count": null,
   "id": "a9926e90",
   "metadata": {},
   "outputs": [],
   "source": []
  },
  {
   "cell_type": "code",
   "execution_count": null,
   "id": "3af43950",
   "metadata": {},
   "outputs": [],
   "source": []
  },
  {
   "cell_type": "code",
   "execution_count": null,
   "id": "df035cc6",
   "metadata": {},
   "outputs": [],
   "source": []
  },
  {
   "cell_type": "code",
   "execution_count": null,
   "id": "91229996",
   "metadata": {},
   "outputs": [],
   "source": [
    "!pip install pyyaml==5.4.1"
   ]
  },
  {
   "cell_type": "code",
   "execution_count": null,
   "id": "c850430a",
   "metadata": {},
   "outputs": [],
   "source": []
  },
  {
   "cell_type": "code",
   "execution_count": null,
   "id": "443cf0a5",
   "metadata": {},
   "outputs": [],
   "source": []
  },
  {
   "cell_type": "code",
   "execution_count": null,
   "id": "85b17b7e",
   "metadata": {},
   "outputs": [],
   "source": []
  },
  {
   "cell_type": "code",
   "execution_count": null,
   "id": "2ea338d5",
   "metadata": {},
   "outputs": [],
   "source": []
  },
  {
   "cell_type": "code",
   "execution_count": null,
   "id": "192779ae",
   "metadata": {},
   "outputs": [],
   "source": []
  },
  {
   "cell_type": "code",
   "execution_count": null,
   "id": "4a7e0b39",
   "metadata": {},
   "outputs": [],
   "source": []
  },
  {
   "cell_type": "code",
   "execution_count": null,
   "id": "3f9ec344",
   "metadata": {},
   "outputs": [],
   "source": []
  },
  {
   "cell_type": "code",
   "execution_count": null,
   "id": "97fe7943",
   "metadata": {},
   "outputs": [],
   "source": []
  },
  {
   "cell_type": "code",
   "execution_count": null,
   "id": "accd701a",
   "metadata": {},
   "outputs": [],
   "source": []
  },
  {
   "cell_type": "code",
   "execution_count": null,
   "id": "482616ff",
   "metadata": {},
   "outputs": [],
   "source": []
  },
  {
   "cell_type": "code",
   "execution_count": null,
   "id": "aea5ebc6",
   "metadata": {},
   "outputs": [],
   "source": []
  },
  {
   "cell_type": "code",
   "execution_count": null,
   "id": "dd296186",
   "metadata": {},
   "outputs": [],
   "source": []
  },
  {
   "cell_type": "code",
   "execution_count": null,
   "id": "c950fa43",
   "metadata": {},
   "outputs": [],
   "source": []
  },
  {
   "cell_type": "code",
   "execution_count": null,
   "id": "c0448f94",
   "metadata": {},
   "outputs": [],
   "source": []
  },
  {
   "cell_type": "code",
   "execution_count": null,
   "id": "681f58b1",
   "metadata": {},
   "outputs": [],
   "source": []
  },
  {
   "cell_type": "code",
   "execution_count": null,
   "id": "40c14303",
   "metadata": {},
   "outputs": [],
   "source": []
  },
  {
   "cell_type": "code",
   "execution_count": null,
   "id": "56d5fcb1",
   "metadata": {},
   "outputs": [],
   "source": []
  },
  {
   "cell_type": "code",
   "execution_count": null,
   "id": "974640e6",
   "metadata": {},
   "outputs": [],
   "source": []
  },
  {
   "cell_type": "code",
   "execution_count": null,
   "id": "023f874c",
   "metadata": {},
   "outputs": [],
   "source": []
  },
  {
   "cell_type": "code",
   "execution_count": null,
   "id": "08a25cc6",
   "metadata": {},
   "outputs": [],
   "source": []
  },
  {
   "cell_type": "code",
   "execution_count": null,
   "id": "4fbd6e45",
   "metadata": {},
   "outputs": [],
   "source": []
  },
  {
   "cell_type": "code",
   "execution_count": null,
   "id": "621f183e",
   "metadata": {},
   "outputs": [],
   "source": []
  },
  {
   "cell_type": "code",
   "execution_count": null,
   "id": "a98aef72",
   "metadata": {},
   "outputs": [],
   "source": []
  },
  {
   "cell_type": "code",
   "execution_count": null,
   "id": "963c174d",
   "metadata": {},
   "outputs": [],
   "source": []
  },
  {
   "cell_type": "code",
   "execution_count": null,
   "id": "14aff16f",
   "metadata": {},
   "outputs": [],
   "source": []
  },
  {
   "cell_type": "code",
   "execution_count": null,
   "id": "aab76c50",
   "metadata": {},
   "outputs": [],
   "source": []
  },
  {
   "cell_type": "code",
   "execution_count": null,
   "id": "c6fcb752",
   "metadata": {},
   "outputs": [],
   "source": []
  },
  {
   "cell_type": "code",
   "execution_count": null,
   "id": "acd56870",
   "metadata": {},
   "outputs": [],
   "source": []
  },
  {
   "cell_type": "code",
   "execution_count": null,
   "id": "24ff9459",
   "metadata": {},
   "outputs": [],
   "source": []
  },
  {
   "cell_type": "code",
   "execution_count": null,
   "id": "b2def8d9",
   "metadata": {},
   "outputs": [],
   "source": []
  },
  {
   "cell_type": "code",
   "execution_count": null,
   "id": "4f011997",
   "metadata": {},
   "outputs": [],
   "source": []
  },
  {
   "cell_type": "code",
   "execution_count": null,
   "id": "38f2195b",
   "metadata": {},
   "outputs": [],
   "source": []
  },
  {
   "cell_type": "code",
   "execution_count": null,
   "id": "96382c3a",
   "metadata": {},
   "outputs": [],
   "source": []
  },
  {
   "cell_type": "code",
   "execution_count": null,
   "id": "a455398c",
   "metadata": {},
   "outputs": [],
   "source": []
  },
  {
   "cell_type": "code",
   "execution_count": null,
   "id": "d58920b9",
   "metadata": {},
   "outputs": [],
   "source": []
  }
 ],
 "metadata": {
  "kernelspec": {
   "display_name": "Python 3",
   "language": "python",
   "name": "python3"
  },
  "language_info": {
   "codemirror_mode": {
    "name": "ipython",
    "version": 3
   },
   "file_extension": ".py",
   "mimetype": "text/x-python",
   "name": "python",
   "nbconvert_exporter": "python",
   "pygments_lexer": "ipython3",
   "version": "3.8.8"
  }
 },
 "nbformat": 4,
 "nbformat_minor": 5
}

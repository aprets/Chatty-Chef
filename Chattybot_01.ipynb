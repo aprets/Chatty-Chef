{
 "cells": [
  {
   "cell_type": "code",
   "execution_count": 2,
   "id": "71cbcac1",
   "metadata": {},
   "outputs": [
    {
     "name": "stdout",
     "output_type": "stream",
     "text": [
      "test\n"
     ]
    }
   ],
   "source": [
    "print(\"test\")"
   ]
  },
  {
   "cell_type": "code",
   "execution_count": 11,
   "id": "b4ce5412",
   "metadata": {},
   "outputs": [],
   "source": [
    "import numpy as np\n",
    "import nltk\n",
    "import string\n",
    "import random"
   ]
  },
  {
   "cell_type": "code",
   "execution_count": null,
   "id": "762a9460",
   "metadata": {},
   "outputs": [],
   "source": []
  },
  {
   "cell_type": "code",
   "execution_count": null,
   "id": "ac63547e",
   "metadata": {},
   "outputs": [],
   "source": []
  },
  {
   "cell_type": "code",
   "execution_count": null,
   "id": "64e6c6cd",
   "metadata": {},
   "outputs": [],
   "source": []
  },
  {
   "cell_type": "markdown",
   "id": "4fcc8f3b",
   "metadata": {},
   "source": [
    "# Importing and Reading the Corpus"
   ]
  },
  {
   "cell_type": "code",
   "execution_count": 12,
   "id": "35213fc0",
   "metadata": {},
   "outputs": [
    {
     "name": "stderr",
     "output_type": "stream",
     "text": [
      "[nltk_data] Downloading package punkt to\n",
      "[nltk_data]     C:\\Users\\HARPREET\\AppData\\Roaming\\nltk_data...\n",
      "[nltk_data]   Package punkt is already up-to-date!\n",
      "[nltk_data] Downloading package wordnet to\n",
      "[nltk_data]     C:\\Users\\HARPREET\\AppData\\Roaming\\nltk_data...\n",
      "[nltk_data]   Package wordnet is already up-to-date!\n"
     ]
    }
   ],
   "source": [
    "f= open(\"chatbot.txt\",'r',errors='ignore')\n",
    "doc=f.read()\n",
    "doc=doc.lower() # Converting the characters into the lower case\n",
    "nltk.download('punkt') # we are using the punkt tokenizeer\n",
    "nltk.download('wordnet') # here we are using the wordnet dictionary\n",
    "sen_token=nltk.sent_tokenize(doc)#  here we are doc to list of the sentendes of our document\n",
    "word_token=nltk.word_tokenize(doc)# converting doc to list of words\n",
    "\n"
   ]
  },
  {
   "cell_type": "code",
   "execution_count": null,
   "id": "895a3bb8",
   "metadata": {},
   "outputs": [],
   "source": []
  },
  {
   "cell_type": "code",
   "execution_count": null,
   "id": "6488f514",
   "metadata": {},
   "outputs": [],
   "source": []
  },
  {
   "cell_type": "code",
   "execution_count": null,
   "id": "16abde3a",
   "metadata": {},
   "outputs": [],
   "source": []
  },
  {
   "cell_type": "markdown",
   "id": "32e28901",
   "metadata": {},
   "source": [
    "Punkt tokenizer is  a re trained tokenizer which has capability to build a model that what is required .We use Punkt because it is already pretrained and very effective to use .Next we are converting doc into sentences and after thatwe are converting in list of words."
   ]
  },
  {
   "cell_type": "code",
   "execution_count": 13,
   "id": "2d5e035b",
   "metadata": {},
   "outputs": [
    {
     "data": {
      "text/plain": [
       "['chatbot\\nfrom wikipedia, the free encyclopedia\\njump to navigationjump to search\\nfor other uses, see chatbot (disambiguation).',\n",
       " 'a virtual assistant chatbot\\n\\nthe 1966 eliza chatbot\\na chatbot or chatterbot is a software application used to conduct an on-line chat conversation via text or text-to-speech, in lieu of providing direct contact with a live human agent.']"
      ]
     },
     "execution_count": 13,
     "metadata": {},
     "output_type": "execute_result"
    }
   ],
   "source": [
    "sen_token[:2]"
   ]
  },
  {
   "cell_type": "code",
   "execution_count": null,
   "id": "08cc57a8",
   "metadata": {},
   "outputs": [],
   "source": []
  },
  {
   "cell_type": "code",
   "execution_count": null,
   "id": "a9de5ded",
   "metadata": {},
   "outputs": [],
   "source": []
  },
  {
   "cell_type": "code",
   "execution_count": 14,
   "id": "65ea6646",
   "metadata": {},
   "outputs": [
    {
     "data": {
      "text/plain": [
       "['chatbot', 'from']"
      ]
     },
     "execution_count": 14,
     "metadata": {},
     "output_type": "execute_result"
    }
   ],
   "source": [
    "word_token[:2] # we are printing the starting 2 words that is in  our corpus"
   ]
  },
  {
   "cell_type": "code",
   "execution_count": null,
   "id": "2202ada8",
   "metadata": {},
   "outputs": [],
   "source": []
  },
  {
   "cell_type": "code",
   "execution_count": null,
   "id": "021fd58e",
   "metadata": {},
   "outputs": [],
   "source": []
  },
  {
   "cell_type": "markdown",
   "id": "befd7400",
   "metadata": {},
   "source": [
    "# Text Preprocessing "
   ]
  },
  {
   "cell_type": "code",
   "execution_count": 15,
   "id": "281f52f1",
   "metadata": {},
   "outputs": [],
   "source": [
    "lem=nltk.stem.WordNetLemmatizer()\n",
    "#wordnet is the dictionary\n",
    "def Lem_To(tokens):\n",
    "    return[lem.lemmatize(token) for token in tokens]\n",
    "rem_pun_dict=dict((ord(punct),None) for punct in string.punctuation)\n",
    "def lemNormal(text):\n",
    "    return Lem_To(nltk.word_tokenize(text.lower().translate(rem_pun_dict)))"
   ]
  },
  {
   "cell_type": "code",
   "execution_count": null,
   "id": "9cbb43dd",
   "metadata": {},
   "outputs": [],
   "source": []
  },
  {
   "cell_type": "code",
   "execution_count": null,
   "id": "57ef064f",
   "metadata": {},
   "outputs": [],
   "source": []
  },
  {
   "cell_type": "markdown",
   "id": "73fc86e8",
   "metadata": {},
   "source": [
    "In the upper step we are just preprocessing the data that we are tokenize the sentense in words and after that we are removing the punctuation and after that normalize them into the vector form and making the text in lower or upper ."
   ]
  },
  {
   "cell_type": "markdown",
   "id": "315c3cce",
   "metadata": {},
   "source": [
    "# Defining the Greeting Functions"
   ]
  },
  {
   "cell_type": "code",
   "execution_count": 16,
   "id": "ac3d62b2",
   "metadata": {},
   "outputs": [],
   "source": [
    "greeting_inputs=(\"hello\",\"hi\",\"sup\",\"whatsup\",\"greetings\",\"hi ,how are you\",)\n",
    "greeting_responses=(\"hi,So please let me know what you would like to eat 1.Indian , 2.Chinease , 3.Thai , 4. To Check our Menu ..Please type Menu\",\"hi I am fine,So please let me know what you would like to eat 1.Indian , 2.Chinease , 3.Thai , 4. To Check our Menu ..Please type Menu\",\"good to hear this,So please let me know what you would like to eat 1.Indian , 2.Chinease , 3.Thai , 4. To Check our Menu ..Please type Menu\")\n",
    "def gre(sent):\n",
    "    for word in sent.split():\n",
    "        if word.lower() in greeting_inputs:\n",
    "            return random.choice(greeting_responses)"
   ]
  },
  {
   "cell_type": "code",
   "execution_count": null,
   "id": "94e463d4",
   "metadata": {},
   "outputs": [],
   "source": []
  },
  {
   "cell_type": "code",
   "execution_count": null,
   "id": "12adc762",
   "metadata": {},
   "outputs": [],
   "source": []
  },
  {
   "cell_type": "code",
   "execution_count": null,
   "id": "b5075a41",
   "metadata": {},
   "outputs": [],
   "source": []
  },
  {
   "cell_type": "code",
   "execution_count": null,
   "id": "245dfd29",
   "metadata": {},
   "outputs": [],
   "source": []
  },
  {
   "cell_type": "code",
   "execution_count": null,
   "id": "da891bbe",
   "metadata": {},
   "outputs": [],
   "source": []
  },
  {
   "cell_type": "code",
   "execution_count": null,
   "id": "c1a42e95",
   "metadata": {},
   "outputs": [],
   "source": []
  },
  {
   "cell_type": "code",
   "execution_count": null,
   "id": "1246abce",
   "metadata": {},
   "outputs": [],
   "source": []
  },
  {
   "cell_type": "markdown",
   "id": "ae591993",
   "metadata": {},
   "source": [
    "# Response Generation"
   ]
  },
  {
   "cell_type": "code",
   "execution_count": 17,
   "id": "7c0e5338",
   "metadata": {},
   "outputs": [],
   "source": [
    "from sklearn.feature_extraction.text import TfidfVectorizer\n",
    "from sklearn.metrics.pairwise import cosine_similarity"
   ]
  },
  {
   "cell_type": "code",
   "execution_count": null,
   "id": "e2f12063",
   "metadata": {},
   "outputs": [],
   "source": []
  },
  {
   "cell_type": "code",
   "execution_count": null,
   "id": "f4a392b6",
   "metadata": {},
   "outputs": [],
   "source": []
  },
  {
   "cell_type": "markdown",
   "id": "b70e8709",
   "metadata": {},
   "source": [
    "Tfid stands for Term Frequency and Inverse document frequency . Term frequency means how many times the same terms or word is repeting in our corpus i.e frequency of occurance of word and Inverse frequency is use to tell us how rarae the word is occuraing in the corpus .\n",
    "\n",
    "Cosine _Similarlity , Once we have Bag of Words , Once we have everything ready in terms of 1,0o . It takes all of that give us the normalize output.\n",
    "\n",
    "So in simple terms we are using TfidVectorizer to find the occurance of repeting and rare words in our corpus and to map them and finding the Cosine_Simarlity to just to do the correct mapping of that words in our corpus."
   ]
  },
  {
   "cell_type": "code",
   "execution_count": 18,
   "id": "e0acca48",
   "metadata": {},
   "outputs": [],
   "source": [
    "def res(user_responses):\n",
    "    robot_responses=''\n",
    "    tfidvec=TfidfVectorizer(tokenizer=lemNormal, stop_words='english')\n",
    "    tfidf=tfidvec.fit_transform(sen_token)\n",
    "    values=cosine_similarity(tfidf[-1],tfidf)\n",
    "    ids=values.argsort()[0][-2]\n",
    "    fla=values.flatten()\n",
    "    fla.sort()\n",
    "    requst_tfidf=fla[-2]\n",
    "    if(requst_tfidf==0):\n",
    "        robot_responses=robot_responses+' '+\"Apologise , I cant able to understand you \"\n",
    "        return robot_responses\n",
    "    else:\n",
    "        robot_responses=robot_responses+sen_token[ids]\n",
    "        return robot_responses"
   ]
  },
  {
   "cell_type": "code",
   "execution_count": null,
   "id": "0dc6a468",
   "metadata": {},
   "outputs": [],
   "source": []
  },
  {
   "cell_type": "code",
   "execution_count": null,
   "id": "fccb2330",
   "metadata": {},
   "outputs": [],
   "source": []
  },
  {
   "cell_type": "code",
   "execution_count": null,
   "id": "b5113f31",
   "metadata": {},
   "outputs": [],
   "source": []
  },
  {
   "cell_type": "code",
   "execution_count": null,
   "id": "8c9d869a",
   "metadata": {},
   "outputs": [],
   "source": []
  },
  {
   "cell_type": "code",
   "execution_count": null,
   "id": "6b5efd5c",
   "metadata": {},
   "outputs": [],
   "source": []
  },
  {
   "cell_type": "markdown",
   "id": "54316ae5",
   "metadata": {},
   "source": [
    "#Here if our tfidf(if(requst_tfidf==0) this mean our chatbot hasnt understand the words provided by the user "
   ]
  },
  {
   "cell_type": "markdown",
   "id": "c8ba376d",
   "metadata": {},
   "source": [
    "# Defining the conversation start/end protocols"
   ]
  },
  {
   "cell_type": "code",
   "execution_count": 19,
   "id": "f45dfd3c",
   "metadata": {},
   "outputs": [
    {
     "name": "stdout",
     "output_type": "stream",
     "text": [
      "ChatBOT:My Name is BoTT lets have a chat if you have any query if not lets print Bye .. Then I will not disturb you :)\n",
      "Please Enter  :hi\n",
      "BoTT:hi I am fine,So please let me know what you would like to eat 1.Indian , 2.Chinease , 3.Thai , 4. To Check our Menu ..Please type Menu\n",
      "Please Enter  :indian\n",
      "BoTT:In Indian we have below items please slect the items you want to eat:\n"
     ]
    },
    {
     "data": {
      "text/html": [
       "<li>Roti <input type=\"button\" value=\"Select\" onclick=\"def1()\"</li> <li>Chicken <input type=\"button\" value=\"Select\"</li> <li>Daal <input type=\"button\" value=\"Select\" onclick=\"def1()\";</li>"
      ],
      "text/plain": [
       "<IPython.core.display.HTML object>"
      ]
     },
     "metadata": {},
     "output_type": "display_data"
    },
    {
     "name": "stdout",
     "output_type": "stream",
     "text": [
      "Please Enter  :menu\n",
      "BoTT:In Thai we have have below item plese select what would you like to eat\n"
     ]
    },
    {
     "data": {
      "text/html": [
       "<li><a href=\"C:/Users/HARPREET/Downloads/ChattyBot.html\">Click Here  to see our MenuMenu</a></li>"
      ],
      "text/plain": [
       "<IPython.core.display.HTML object>"
      ]
     },
     "metadata": {},
     "output_type": "display_data"
    },
    {
     "name": "stdout",
     "output_type": "stream",
     "text": [
      "Please Enter  :chatbot\n",
      "BoTT:chatbot\n",
      "from wikipedia, the free encyclopedia\n",
      "jump to navigationjump to search\n",
      "for other uses, see chatbot (disambiguation).\n",
      "Please Enter  :thanks\n",
      "BoTT: You are always Welcome bye Take Care have a nice day ......\n"
     ]
    }
   ],
   "source": [
    "from IPython.display import display,HTML\n",
    "from IPython.display import Javascript\n",
    "flag=True\n",
    "print(\"ChatBOT:My Name is BoTT lets have a chat if you have any query if not lets print Bye .. Then I will not disturb you :)\")\n",
    "#user_name=input(\"Welcome to our Restraurant ..This is ChattyBot ..May I know your name?\")\n",
    "#print(\"So please let me know what you would like to eat 1.Indian , 2.Chinease , 3.Thai , 4. To Check  our Menu ..Please type Menu\")\n",
    "while(flag==True):\n",
    "    user_responses=input(\"Please Enter  :\")\n",
    "    user_responses=user_responses.lower()\n",
    "    if(user_responses!='bye'):\n",
    "        if(user_responses=='thanks' or user_responses=='thank you'):\n",
    "            flag=False\n",
    "            print(\"BoTT: You are always Welcome bye Take Care have a nice day ......\")\n",
    "        \n",
    "        else:\n",
    "            if(gre(user_responses)!=None):\n",
    "                print(\"BoTT:\"+gre(user_responses))\n",
    "                \n",
    "            elif(user_responses=='good' or user_responses=='fine'):\n",
    "                #flag=False\n",
    "                #box1=HTML('The Box<input type=\"text\" id=\"thebox\" value=\"\" size=10>')\n",
    "                #india=HTML('<li>Roti <input type=\"button\" value=\"Select\" onclick=\"def1()\"</li> <li>Chicken <input type=\"button\" value=\"Select\"</li> <li>Daal <input type=\"button\" value=\"Select\" onclick=\"def1()\";</li>')\n",
    "                #HTML(box)\n",
    "                #HTML('<script>function def1() {document.getElementById(\"thebox\").innerHTML = \"Roti\";}</script>')\n",
    "                print(\"BoTT:Nice to Hear that , So please let me know what you would like to eat 1.Indian , 2.Chinease , 3.Thai , 4. To Check our Menu ..Please type Menu\")\n",
    "                \n",
    "                #print(display(box1))\n",
    "            elif(user_responses=='indian' or user_responses=='1'):\n",
    "                #flag=False\n",
    "                #box1=HTML('The Box<input type=\"text\" id=\"thebox\" value=\"\" size=10>')\n",
    "                india=HTML('<li>Roti <input type=\"button\" value=\"Select\" onclick=\"def1()\"</li> <li>Chicken <input type=\"button\" value=\"Select\"</li> <li>Daal <input type=\"button\" value=\"Select\" onclick=\"def1()\";</li>')\n",
    "                #HTML(box)\n",
    "                #HTML('<script>function def1() {document.getElementById(\"thebox\").innerHTML = \"Roti\";}</script>')\n",
    "                print(\"BoTT:In Indian we have below items please slect the items you want to eat:\")\n",
    "                (display(india))\n",
    "                #print(display(box1))\n",
    "                \n",
    "                #<input type=\"button\" value=\"What's in the booooox?\" onclick=\"document.getElementById('thebox').value='head of gwyneth paltrow';\">\n",
    "            elif(user_responses=='thai' or user_responses=='2'):\n",
    "                #flag=False\n",
    "                thai_food=HTML('<li>Katsu Curry <input type=\"button\" value=\"Select\"></li> <li>Noodles <input type=\"button\" value=\"Select\"> </li> <li>chicken <input type=\"button\" value=\"Select\"></li>')\n",
    "                print(\"BoTT:In Thai we have have below item plese select what would you like to eat\")\n",
    "                (display(thai_food))\n",
    "            elif(user_responses=='menu' or user_responses=='4'):\n",
    "                #flag=False\n",
    "                Menu_food=HTML('<li><a href=\"C:/Users/HARPREET/Downloads/ChattyBot.html\">Click Here  to see our MenuMenu</a></li>')\n",
    "                print(\"BoTT:In Thai we have have below item plese select what would you like to eat\")\n",
    "                (display(Menu_food))\n",
    "            else:\n",
    "                #print(\"BoTT:Nice to Hear that , So please let me know what you would like to eat 1.Indian , 2.Chinease , 3.Thai , 4. To Check our Menu ..Please type Menu\")\n",
    "                sen_token.append(user_responses)\n",
    "                word_token=word_token+nltk.word_tokenize(user_responses)\n",
    "                final_word=list(set(word_token))\n",
    "                print(\"BoTT:\",end=\"\")\n",
    "                print(res(user_responses))\n",
    "                sen_token.remove(user_responses)\n",
    "    else:\n",
    "        flag=False\n",
    "        print(\"BoTT:Good Bye Take Care\")\n",
    "     \n"
   ]
  },
  {
   "cell_type": "code",
   "execution_count": null,
   "id": "e80acb21",
   "metadata": {},
   "outputs": [],
   "source": []
  },
  {
   "cell_type": "code",
   "execution_count": null,
   "id": "90575941",
   "metadata": {},
   "outputs": [],
   "source": []
  },
  {
   "cell_type": "code",
   "execution_count": null,
   "id": "16412df0",
   "metadata": {},
   "outputs": [],
   "source": [
    "import tkinter as Tk\n",
    "\n",
    "screen=Tk.Tk()\n",
    "screen.title(\"Matplot Graphies\")\n",
    "screen.geometry(\"500x500\")\n",
    "#screen.withdraw()\n",
    "screen.mainloop()\n"
   ]
  },
  {
   "cell_type": "code",
   "execution_count": null,
   "id": "b724867e",
   "metadata": {},
   "outputs": [],
   "source": []
  },
  {
   "cell_type": "code",
   "execution_count": null,
   "id": "9c1d6afb",
   "metadata": {},
   "outputs": [],
   "source": []
  },
  {
   "cell_type": "code",
   "execution_count": null,
   "id": "8a9e1318",
   "metadata": {},
   "outputs": [],
   "source": []
  },
  {
   "cell_type": "code",
   "execution_count": null,
   "id": "6bcd829b",
   "metadata": {},
   "outputs": [],
   "source": []
  },
  {
   "cell_type": "code",
   "execution_count": null,
   "id": "48264383",
   "metadata": {},
   "outputs": [],
   "source": []
  },
  {
   "cell_type": "code",
   "execution_count": null,
   "id": "564765e8",
   "metadata": {},
   "outputs": [],
   "source": []
  },
  {
   "cell_type": "code",
   "execution_count": null,
   "id": "0245c19c",
   "metadata": {},
   "outputs": [],
   "source": [
    "#chat bot is prepare now we can ask the question and chat with our bot "
   ]
  },
  {
   "cell_type": "code",
   "execution_count": null,
   "id": "33280387",
   "metadata": {},
   "outputs": [],
   "source": []
  }
 ],
 "metadata": {
  "kernelspec": {
   "display_name": "Python 3",
   "language": "python",
   "name": "python3"
  },
  "language_info": {
   "codemirror_mode": {
    "name": "ipython",
    "version": 3
   },
   "file_extension": ".py",
   "mimetype": "text/x-python",
   "name": "python",
   "nbconvert_exporter": "python",
   "pygments_lexer": "ipython3",
   "version": "3.8.8"
  }
 },
 "nbformat": 4,
 "nbformat_minor": 5
}
